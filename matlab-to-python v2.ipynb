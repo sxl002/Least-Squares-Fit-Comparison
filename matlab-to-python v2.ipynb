{
 "cells": [
  {
   "cell_type": "code",
   "execution_count": 78,
   "metadata": {},
   "outputs": [
    {
     "name": "stdout",
     "output_type": "stream",
     "text": [
      "lineAns = [1.289636 0.987143]\n"
     ]
    }
   ],
   "source": [
    "\"\"\"\n",
    "For best results, make sure to run the file in jupyter notebook and install\n",
    "cvxopt package (at https://cvxopt.org/install/index.html), and if you haven't\n",
    "already, numpy, scipy, pandas, etc.\n",
    "Some values are hardcoded, which may lead to problems when changing array\n",
    "and matrix sizes. \n",
    "np.genfromtxt has hardcoded values, adjust 'max_rows' to how many rows you need\n",
    "to have, and 'skip_header' to the row you want to start with.\n",
    "By default numbers are rounded up to 6 decimal places. Change np.round from\n",
    "6 to some other number if you need more precision.\n",
    "\n",
    "An equivalent to lsqcurvefit was found but was unable to be implemented\n",
    "look at https://github.com/nmayorov/bounded-lsq/blob/master/bounded_lsq/trf.py\n",
    "for details.\n",
    "\n",
    "Instructions:\n",
    "1. Run Matlab file first to generate csvlist.csv and resultsMatlab.txt.\n",
    "2. Run Python file second to generate results.txt.\n",
    "3. View table below to view compare results. 0 is Python.\n",
    "\n",
    "Author: Stephen Li\n",
    "Email: stephenli711@gmail.com\n",
    "Version: 2.0\n",
    "Date: July 31, 2018\n",
    "\n",
    "Works Cited\n",
    "http://maggotroot.blogspot.com/2013/11/constrained-linear-least-squares-in.html\n",
    "https://github.com/KasparP/PSI_simulations/blob/master/Python/SLAPMi/lsqlin.py\n",
    "\"\"\"\n",
    "\n",
    "\"\"\"\n",
    "1a. Mldivide line\n",
    "Equivalent to MATLAB's '\\' symbol\n",
    "X1a and Y1a are equivalent to X and Y respectively\n",
    "From numpy's linear algebra (numpy.linalg) package\n",
    "Answer given by lineAns\n",
    "\n",
    "NOTE: lstsq method used rcond=-1, which is the old behavior.\n",
    "For 1b this resulted in a solution closer to Matlab.\n",
    "\"\"\"\n",
    "\n",
    "import numpy as np\n",
    "\n",
    "X1a = np.genfromtxt('csvlist.csv', delimiter=',',max_rows=50)\n",
    "Y1a = np.genfromtxt('csvlist.csv', delimiter=',',skip_header=50,max_rows=50)\n",
    "lineAns, residuals, rank, s = np.linalg.lstsq(X1a,Y1a,rcond=-1)\n",
    "print('lineAns = ' + str(np.round(lineAns, 6)))\n",
    "\n",
    "f = open('results.txt','w')\n",
    "for i in range(len(lineAns)):\n",
    "        f.write(str(np.round(lineAns[i], 6)) + '\\n')\n",
    "f.close()"
   ]
  },
  {
   "cell_type": "code",
   "execution_count": 79,
   "metadata": {},
   "outputs": [
    {
     "name": "stdout",
     "output_type": "stream",
     "text": [
      "curveAns = [8.540459 2.391818 0.982475]\n"
     ]
    }
   ],
   "source": [
    "\"\"\"\n",
    "1b. Mldivide curve\n",
    "Equivalent to MATLAB's '\\' symbol\n",
    "X1b and Y1b are equivalent to X and Y respectively\n",
    "From numpy's linear algebra (numpy.linalg) package\n",
    "Answer given by curveAns\n",
    "\"\"\"\n",
    "X1b = np.genfromtxt('csvlist.csv', delimiter=',',skip_header=100,max_rows=50)\n",
    "Y1b = np.genfromtxt('csvlist.csv', delimiter=',',skip_header=150,max_rows=50)\n",
    "curveAns, residuals, rank, s = np.linalg.lstsq(X1b,Y1b,rcond=-1)\n",
    "print('curveAns = ' + str(np.round(curveAns, 6)))\n",
    "\n",
    "f = open('results.txt','a')\n",
    "for i in range(len(curveAns)):\n",
    "        f.write(str(np.round(curveAns[i], 6)) + '\\n')\n",
    "f.close()"
   ]
  },
  {
   "cell_type": "code",
   "execution_count": 80,
   "metadata": {},
   "outputs": [
    {
     "name": "stdout",
     "output_type": "stream",
     "text": [
      "lsqlinAns = [[-0.355314 -1.029942  0.228802 -0.39943 ]]\n"
     ]
    }
   ],
   "source": [
    "\"\"\"\n",
    "Title: lsqlin\n",
    "Author: Vishnevskiy, Valeriy\n",
    "Date: 2011\n",
    "Code version: 1.0 (slightly modified to work on python 3.6.1)\n",
    "Availability:\n",
    "http://maggotroot.blogspot.com/2013/11/constrained-linear-least-squares-in.html\n",
    "https://github.com/KasparP/PSI_simulations/blob/master/Python/SLAPMi/lsqlin.py\n",
    "\"\"\"\n",
    "\n",
    "\"\"\"\n",
    "2. lsqlin line\n",
    "Equivalent to MATLAB's lsqlin function\n",
    "From lsqlin.py created by Valeriy Vishnevskiy\n",
    "For examples see http://maggotroot.blogspot.com/2013/11/constrained-linear-least-squares-in.html\n",
    "Answer given by lsqlinAns\n",
    "\"\"\"\n",
    "\n",
    "import lsqlin as lsqlin\n",
    "\n",
    "'''\n",
    "Testing Values\n",
    "'''\n",
    "# C = np.array(np.mat('''0.9501,0.7620,0.6153,0.4057;\n",
    "# 0.2311,0.4564,0.7919,0.9354;\n",
    "# 0.6068,0.0185,0.9218,0.9169;\n",
    "# 0.4859,0.8214,0.7382,0.4102;\n",
    "# 0.8912,0.4447,0.1762,0.8936'''))\n",
    "# A = np.array(np.mat('''0.2027,0.2721,0.7467,0.4659;\n",
    "# 0.1987,0.1988,0.4450,0.4186;\n",
    "# 0.6037,0.0152,0.9318,0.8462'''))\n",
    "# d = np.array([0.0578, 0.3528, 0.8131, 0.0098, 0.1388])\n",
    "# b =  np.array([0.5251, 0.2026, 0.6721])\n",
    "# lb = np.array([-0.1] * 4)\n",
    "# ub = np.array([2] * 4)\n",
    "#lsqlinAns = lsqlin.lsqlin(C,d,0,A,b,None,None,lb,ub,None,{'show_progress':False})\n",
    "\n",
    "C = np.genfromtxt('csvlist.csv', delimiter=',',skip_header=200,max_rows=5)\n",
    "A = np.genfromtxt('csvlist.csv', delimiter=',',skip_header=205,max_rows=3)\n",
    "d = np.genfromtxt('csvlist.csv', delimiter=',',skip_header=208,max_rows=5)\n",
    "b = np.genfromtxt('csvlist.csv', delimiter=',',skip_header=213,max_rows=3)\n",
    "\n",
    "lsqlinAns = lsqlin.lsqlin(C,d,0,A,b,None,None,None,None,None,{'show_progress':False})\n",
    "print('lsqlinAns = '+ str(np.round(lsqlinAns['x'].T, 6)))\n",
    "\n",
    "lsqlinAns = np.round(lsqlinAns['x'], 6)\n",
    "f = open('results.txt','a')\n",
    "for i in range(len(lsqlinAns)):\n",
    "    f.write(str(lsqlinAns.item(i)) + '\\n')\n",
    "f.close()"
   ]
  },
  {
   "cell_type": "code",
   "execution_count": 81,
   "metadata": {},
   "outputs": [
    {
     "name": "stdout",
     "output_type": "stream",
     "text": [
      "lsqnonnegAns = [[0.       0.088544]]\n"
     ]
    }
   ],
   "source": [
    "\"\"\"\n",
    "3. lsqnonneg line\n",
    "Equivalent to MATLAB's lsqnonneg function\n",
    "From lsqlin.py created by Valeriy Vishnevskiy\n",
    "For examples see http://maggotroot.blogspot.com/2013/11/constrained-linear-least-squares-in.html\n",
    "Answer given by lsqnonnegAns\n",
    "\"\"\"\n",
    "\n",
    "'''\n",
    "Testing Values\n",
    "'''\n",
    "# C = np.array([[0.0372, 0.2869], [0.6861, 0.7071], \\\n",
    "#               [0.6233, 0.6245], [0.6344, 0.6170]]);\n",
    "# d = np.array([0.8587, 0.1781, 0.0747, 0.8405]);\n",
    "\n",
    "C = np.genfromtxt('csvlist.csv', delimiter=',',skip_header=216,max_rows=4)\n",
    "d = np.genfromtxt('csvlist.csv', delimiter=',',skip_header=220,max_rows=4)\n",
    "\n",
    "lsqnonnegAns = lsqlin.lsqnonneg(C, d, {'show_progress': False})\n",
    "print('lsqnonnegAns = '+ str(np.round(lsqnonnegAns['x'].T, 6)))\n",
    "\n",
    "lsqnonnegAns = np.round(lsqnonnegAns['x'], 6)\n",
    "f = open('results.txt','a')\n",
    "for i in range(len(lsqnonnegAns)):\n",
    "    f.write(str(lsqnonnegAns.item(i)) + '\\n')\n",
    "f.close()"
   ]
  },
  {
   "cell_type": "code",
   "execution_count": 82,
   "metadata": {},
   "outputs": [
    {
     "data": {
      "text/plain": [
       "'\\n4. lsqcurvefit line\\nUNFINISHED\\n'"
      ]
     },
     "execution_count": 82,
     "metadata": {},
     "output_type": "execute_result"
    }
   ],
   "source": [
    "from scipy.optimize import curve_fit\n",
    "np.random.seed(3)\n",
    "\"\"\"\n",
    "4. lsqcurvefit line\n",
    "UNFINISHED\n",
    "\"\"\"\n",
    "# x = np.array([0.5, 0.387, 0.24, 0.136, 0.04, 0.011])\n",
    "# y = np.array([1.255, 1.25, 1.189, 1.124, 0.783, 0.402])\n",
    "# def func(x, a, b):\n",
    "#     return (a * x) / (b + x)\n",
    "# initial_guess = [1.2, 0.03]\n",
    "# popt, pcov = curve_fit(func, x, y, p0=initial_guess)\n",
    "# print(popt)\n",
    "# print(pcov)"
   ]
  },
  {
   "cell_type": "code",
   "execution_count": 83,
   "metadata": {
    "collapsed": true
   },
   "outputs": [],
   "source": [
    "# xdata = np.array([0.0,1.0,2.0,3.0,4.0,5.0])\n",
    "# ydata = np.array([0.1,0.9,2.2,2.8,3.9,5.1])\n",
    "# def func(x, a, b, c):\n",
    "#     return a + b*x + c*x*x\n",
    "# x0 = np.array([0.0, 0.0, 0.0])\n",
    "# popt, pcov = curve_fit(func, xdata, ydata, p0=x0)\n",
    "# print(popt)\n",
    "# print(pcov)"
   ]
  },
  {
   "cell_type": "code",
   "execution_count": 84,
   "metadata": {},
   "outputs": [
    {
     "name": "stdout",
     "output_type": "stream",
     "text": [
      "lsqnonlinAns = [1.312205]\n"
     ]
    }
   ],
   "source": [
    "from scipy.optimize import least_squares\n",
    "\"\"\"\n",
    "5. lsqnonlin line\n",
    "Equivalent to MATLAB's lsqnonneg function\n",
    "From Scipy Optimization and Root Finding package (scipy.optimize)\n",
    "Adjust func1 to desired function, x0 to the initial guess\n",
    "Answer given by lsqnonlinAns\n",
    "\"\"\"\n",
    "\n",
    "'''\n",
    "Testing Values\n",
    "'''\n",
    "# d = np.linspace(0,3,100)\n",
    "# y = np.exp(-1.3*d) + 0.05*np.random.randn(np.size(d))\n",
    "\n",
    "d = np.genfromtxt('csvlist.csv', delimiter=',',skip_header=224,max_rows=1)\n",
    "y = np.genfromtxt('csvlist.csv', delimiter=',',skip_header=225,max_rows=1)\n",
    "def func1(r):\n",
    "    return np.exp(-d*r)-y\n",
    "x0 = 4\n",
    "lsqnonlinAns = least_squares(func1,x0)\n",
    "print('lsqnonlinAns = '+ str(np.round(lsqnonlinAns.x, 6)))\n",
    "\n",
    "f = open('results.txt','a')\n",
    "for i in range(len(lsqnonlinAns.x)):\n",
    "        f.write(str(np.round(lsqnonlinAns.x[i], 6)) + '\\n')\n",
    "f.close()"
   ]
  },
  {
   "cell_type": "code",
   "execution_count": 85,
   "metadata": {},
   "outputs": [
    {
     "name": "stdout",
     "output_type": "stream",
     "text": [
      "           0    Matlab\n",
      "0   1.289636  1.289723\n",
      "1   0.987143  0.987143\n",
      "2   8.540459  8.540492\n",
      "3   2.391818  2.391781\n",
      "4   0.982475  0.982475\n",
      "5  -0.355314 -0.355306\n",
      "6  -1.029942 -1.029960\n",
      "7   0.228802  0.228795\n",
      "8  -0.399430 -0.399415\n",
      "9   0.000000  0.000000\n",
      "10  0.088544  0.088553\n",
      "11  1.312205  1.312202\n"
     ]
    }
   ],
   "source": [
    "import pandas as pd\n",
    "# Python results\n",
    "df1 = pd.read_csv('results.txt',header=None)\n",
    "# Matlab results\n",
    "df2 = pd.read_csv('resultsMatlab.txt',header=None)\n",
    "result = df1.assign(Matlab=df2)\n",
    "print(result)"
   ]
  }
 ],
 "metadata": {
  "kernelspec": {
   "display_name": "Python 3",
   "language": "python",
   "name": "python3"
  },
  "language_info": {
   "codemirror_mode": {
    "name": "ipython",
    "version": 3
   },
   "file_extension": ".py",
   "mimetype": "text/x-python",
   "name": "python",
   "nbconvert_exporter": "python",
   "pygments_lexer": "ipython3",
   "version": "3.6.1"
  }
 },
 "nbformat": 4,
 "nbformat_minor": 2
}
